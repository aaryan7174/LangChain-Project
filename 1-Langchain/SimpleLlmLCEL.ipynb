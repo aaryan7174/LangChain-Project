{
 "cells": [
  {
   "cell_type": "code",
   "execution_count": 17,
   "id": "c450065b",
   "metadata": {},
   "outputs": [
    {
     "data": {
      "text/plain": [
       "ChatGroq(client=<groq.resources.chat.completions.Completions object at 0x115aa3ca0>, async_client=<groq.resources.chat.completions.AsyncCompletions object at 0x115aa3e80>, model_name='gemma2-9b-it', model_kwargs={}, groq_api_key=SecretStr('**********'))"
      ]
     },
     "execution_count": 17,
     "metadata": {},
     "output_type": "execute_result"
    }
   ],
   "source": [
    "import os \n",
    "from dotenv import load_dotenv\n",
    "load_dotenv()\n",
    "\n",
    "from langchain_groq import ChatGroq\n",
    "model =ChatGroq(model=\"gemma2-9b-it\",groq_api_key=os.getenv(\"GROQ_API_KEY\"))\n",
    "model"
   ]
  },
  {
   "cell_type": "code",
   "execution_count": 19,
   "id": "41aceec4",
   "metadata": {},
   "outputs": [],
   "source": [
    "from langchain_core.messages import HumanMessage,SystemMessage\n",
    "\n",
    "messages = [\n",
    "    SystemMessage(content=\"Translate the following from English to Spanish.\"),\n",
    "    HumanMessage(content=\"Hi buddy , How are you ? My name is Aaryan\")\n",
    "    ]\n",
    "result=model.invoke(messages)"
   ]
  },
  {
   "cell_type": "code",
   "execution_count": 20,
   "id": "0753b3e8",
   "metadata": {},
   "outputs": [
    {
     "data": {
      "text/plain": [
       "AIMessage(content='Hola amigo, ¿cómo estás? Me llamo Aaryan. \\n', additional_kwargs={}, response_metadata={'token_usage': {'completion_tokens': 16, 'prompt_tokens': 29, 'total_tokens': 45, 'completion_time': 0.029090909, 'prompt_time': 0.002127426, 'queue_time': 0.24204999900000002, 'total_time': 0.031218335}, 'model_name': 'gemma2-9b-it', 'system_fingerprint': 'fp_10c08bf97d', 'finish_reason': 'stop', 'logprobs': None}, id='run--29764d8d-3852-47bf-a3ab-0e715b006899-0', usage_metadata={'input_tokens': 29, 'output_tokens': 16, 'total_tokens': 45})"
      ]
     },
     "execution_count": 20,
     "metadata": {},
     "output_type": "execute_result"
    }
   ],
   "source": [
    "result"
   ]
  },
  {
   "cell_type": "code",
   "execution_count": 21,
   "id": "989e0aa9",
   "metadata": {},
   "outputs": [
    {
     "data": {
      "text/plain": [
       "'Hola amigo, ¿cómo estás? Me llamo Aaryan. \\n'"
      ]
     },
     "execution_count": 21,
     "metadata": {},
     "output_type": "execute_result"
    }
   ],
   "source": [
    "from langchain_core.output_parsers import StrOutputParser\n",
    "parser=StrOutputParser()\n",
    "parser.invoke(result)"
   ]
  },
  {
   "cell_type": "code",
   "execution_count": 22,
   "id": "e18d0bc1",
   "metadata": {},
   "outputs": [
    {
     "data": {
      "text/plain": [
       "\"Hola amigo, ¿cómo estás? Me llamo Aaryan. \\n\\n\\nLet me know if you have any other phrases you'd like me to translate! 😊 \\n\""
      ]
     },
     "execution_count": 22,
     "metadata": {},
     "output_type": "execute_result"
    }
   ],
   "source": [
    "## Using LCEL chain the components \n",
    "chain= model | parser\n",
    "chain.invoke(messages)"
   ]
  },
  {
   "cell_type": "code",
   "execution_count": 24,
   "id": "c70d9ca1",
   "metadata": {},
   "outputs": [],
   "source": [
    "## Prompt templates\n",
    "from langchain_core.prompts import ChatPromptTemplate\n",
    "genric_template = (\"Translate the following into {language}\")\n",
    "\n",
    "prompt=ChatPromptTemplate.from_messages(\n",
    "    [\n",
    "       (\"system\",genric_template),(\"user\",\"{text}\")\n",
    "    ]\n",
    ")"
   ]
  },
  {
   "cell_type": "code",
   "execution_count": 27,
   "id": "fff5f486",
   "metadata": {},
   "outputs": [],
   "source": [
    "result = prompt.invoke(\n",
    "    {\n",
    "        \"language\":\"French\",\n",
    "        \"text\":\"Hi buddy , How are you ? My name is Aaryan\"\n",
    "    }\n",
    ")\n"
   ]
  },
  {
   "cell_type": "code",
   "execution_count": 28,
   "id": "cf0b4ec0",
   "metadata": {},
   "outputs": [
    {
     "data": {
      "text/plain": [
       "[SystemMessage(content='Translate the following into French', additional_kwargs={}, response_metadata={}),\n",
       " HumanMessage(content='Hi buddy , How are you ? My name is Aaryan', additional_kwargs={}, response_metadata={})]"
      ]
     },
     "execution_count": 28,
     "metadata": {},
     "output_type": "execute_result"
    }
   ],
   "source": [
    "result.to_messages()"
   ]
  },
  {
   "cell_type": "code",
   "execution_count": 30,
   "id": "f88c2cd8",
   "metadata": {},
   "outputs": [
    {
     "data": {
      "text/plain": [
       "\"Salut mon pote, comment vas-tu ? Je m'appelle Aaryan. \\n\\n\\nLet me know if you'd like me to translate anything else!\\n\""
      ]
     },
     "execution_count": 30,
     "metadata": {},
     "output_type": "execute_result"
    }
   ],
   "source": [
    "chain = prompt | model | parser\n",
    "chain.invoke(\n",
    "    {\n",
    "        \"language\":\"French\",\n",
    "        \"text\":\"Hi buddy , How are you ? My name is Aaryan\"\n",
    "    }\n",
    ")"
   ]
  },
  {
   "cell_type": "code",
   "execution_count": null,
   "id": "e39956f0",
   "metadata": {},
   "outputs": [],
   "source": []
  }
 ],
 "metadata": {
  "kernelspec": {
   "display_name": "venv",
   "language": "python",
   "name": "python3"
  },
  "language_info": {
   "codemirror_mode": {
    "name": "ipython",
    "version": 3
   },
   "file_extension": ".py",
   "mimetype": "text/x-python",
   "name": "python",
   "nbconvert_exporter": "python",
   "pygments_lexer": "ipython3",
   "version": "3.10.7"
  }
 },
 "nbformat": 4,
 "nbformat_minor": 5
}
