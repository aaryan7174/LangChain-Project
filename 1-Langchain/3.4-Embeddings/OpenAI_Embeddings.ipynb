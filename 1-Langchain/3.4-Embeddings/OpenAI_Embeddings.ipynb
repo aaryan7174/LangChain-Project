{
 "cells": [
  {
   "cell_type": "code",
   "execution_count": 6,
   "id": "fc4b20f3",
   "metadata": {},
   "outputs": [
    {
     "data": {
      "text/plain": [
       "False"
      ]
     },
     "execution_count": 6,
     "metadata": {},
     "output_type": "execute_result"
    }
   ],
   "source": [
    "import os \n",
    "from dotenv import load_dotenv  \n",
    "load_dotenv()"
   ]
  },
  {
   "cell_type": "code",
   "execution_count": null,
   "id": "c270c815",
   "metadata": {},
   "outputs": [
    {
     "ename": "NameError",
     "evalue": "name 'OPENAI_API_KEY' is not defined",
     "output_type": "error",
     "traceback": [
      "\u001b[0;31m---------------------------------------------------------------------------\u001b[0m",
      "\u001b[0;31mNameError\u001b[0m                                 Traceback (most recent call last)",
      "Cell \u001b[0;32mIn[7], line 1\u001b[0m\n\u001b[0;32m----> 1\u001b[0m os\u001b[38;5;241m.\u001b[39menviron[\u001b[43mOPENAI_API_KEY\u001b[49m] \u001b[38;5;241m=\u001b[39m os\u001b[38;5;241m.\u001b[39mgetenv(\u001b[38;5;124m\"\u001b[39m\u001b[38;5;124msk-proj-FRHyWafNQvRHVV52fe7qtufTey8NsZOoZY666I8_9RBKuQxrzTVUdnEuxD6a23Lkd2OUFV7JLFT3BlbkFJgPc1lbCPqKYDBqudWwYllIBmANsUTKoesmVjoQZ2qB8KQ1FQV4OjpRXcUwBslN7R0_jIVBGngA\u001b[39m\u001b[38;5;124m\"\u001b[39m)\n",
      "\u001b[0;31mNameError\u001b[0m: name 'OPENAI_API_KEY' is not defined"
     ]
    }
   ],
   "source": [
    "os.environ[OPENAI_API_KEY] = os.getenv(\"sk-pr------------GngA\")"
   ]
  },
  {
   "cell_type": "code",
   "execution_count": 8,
   "id": "ac1fc471",
   "metadata": {},
   "outputs": [
    {
     "ename": "ModuleNotFoundError",
     "evalue": "No module named 'langchain_openai'",
     "output_type": "error",
     "traceback": [
      "\u001b[0;31m---------------------------------------------------------------------------\u001b[0m",
      "\u001b[0;31mModuleNotFoundError\u001b[0m                       Traceback (most recent call last)",
      "Cell \u001b[0;32mIn[8], line 1\u001b[0m\n\u001b[0;32m----> 1\u001b[0m \u001b[38;5;28;01mfrom\u001b[39;00m\u001b[38;5;250m \u001b[39m\u001b[38;5;21;01mlangchain_openai\u001b[39;00m\u001b[38;5;250m \u001b[39m\u001b[38;5;28;01mimport\u001b[39;00m OPENAIEmbeddings\n\u001b[1;32m      2\u001b[0m embeddings \u001b[38;5;241m=\u001b[39m OPENAIEmbeddings \u001b[38;5;241m=\u001b[39m OPENAIEmbeddings(\n\u001b[1;32m      3\u001b[0m     model\u001b[38;5;241m=\u001b[39m\u001b[38;5;124m\"\u001b[39m\u001b[38;5;124mtext-embedding-3-large\u001b[39m\u001b[38;5;124m\"\u001b[39m\n\u001b[1;32m      4\u001b[0m )\n\u001b[1;32m      5\u001b[0m embeddings\n",
      "\u001b[0;31mModuleNotFoundError\u001b[0m: No module named 'langchain_openai'"
     ]
    }
   ],
   "source": [
    "from langchain_openai import OPENAIEmbeddings\n",
    "embeddings = OPENAIEmbeddings = OPENAIEmbeddings(\n",
    "    model=\"text-embedding-3-large\"\n",
    ")\n",
    "embeddings"
   ]
  },
  {
   "cell_type": "code",
   "execution_count": 9,
   "id": "cff5007a",
   "metadata": {},
   "outputs": [
    {
     "ename": "NameError",
     "evalue": "name 'embeddings' is not defined",
     "output_type": "error",
     "traceback": [
      "\u001b[0;31m---------------------------------------------------------------------------\u001b[0m",
      "\u001b[0;31mNameError\u001b[0m                                 Traceback (most recent call last)",
      "Cell \u001b[0;32mIn[9], line 2\u001b[0m\n\u001b[1;32m      1\u001b[0m text\u001b[38;5;241m=\u001b[39m\u001b[38;5;124m\"\u001b[39m\u001b[38;5;124mThis is an example buddy chill\u001b[39m\u001b[38;5;124m\"\u001b[39m\n\u001b[0;32m----> 2\u001b[0m query_embedding \u001b[38;5;241m=\u001b[39m \u001b[43membeddings\u001b[49m\u001b[38;5;241m.\u001b[39membed_query(text)\n\u001b[1;32m      3\u001b[0m \u001b[38;5;28mprint\u001b[39m(query_embedding)\n",
      "\u001b[0;31mNameError\u001b[0m: name 'embeddings' is not defined"
     ]
    }
   ],
   "source": [
    "text=\"This is an example buddy chill\"\n",
    "query_embedding = embeddings.embed_query(text)\n",
    "print(query_embedding)"
   ]
  },
  {
   "cell_type": "code",
   "execution_count": 14,
   "id": "0db6de88",
   "metadata": {},
   "outputs": [
    {
     "data": {
      "text/plain": [
       "[Document(metadata={}, page_content='My parents impressed on me the value of that you'),\n",
       " Document(metadata={}, page_content='you work hard for what you want in life. That'),\n",
       " Document(metadata={}, page_content='That your word is your bond and you do what you'),\n",
       " Document(metadata={}, page_content='you say and keep your promise. That you treat'),\n",
       " Document(metadata={}, page_content='people with respect. Show the values and morals'),\n",
       " Document(metadata={}, page_content='in in the daily life. That is the lesson that we'),\n",
       " Document(metadata={}, page_content='we continue to pass on to our son.'),\n",
       " Document(metadata={}, page_content='We need to pass those lessons on to the many'),\n",
       " Document(metadata={}, page_content='many generations to follow. [Cheering] Because we'),\n",
       " Document(metadata={}, page_content='we want our children in these nations to know'),\n",
       " Document(metadata={}, page_content='know that the only limit to your achievement is'),\n",
       " Document(metadata={}, page_content='is the strength of your dreams and your'),\n",
       " Document(metadata={}, page_content='your willingness to work for them.')]"
      ]
     },
     "execution_count": 14,
     "metadata": {},
     "output_type": "execute_result"
    }
   ],
   "source": [
    "speech=\"\"\n",
    "with open(\"Speech.txt\") as f:\n",
    "    speech= f.read()\n",
    "speech\n",
    "\n",
    "text_splitter = RecursiveCharacterTextSplitter(\n",
    "    chunk_size=50,\n",
    "    chunk_overlap=5)\n",
    "text=text_splitter.create_documents([speech])\n",
    "text"
   ]
  },
  {
   "cell_type": "markdown",
   "id": "2031669f",
   "metadata": {},
   "source": [
    "## Vector Embedding and Vector Store DB"
   ]
  },
  {
   "cell_type": "code",
   "execution_count": 18,
   "id": "69023360",
   "metadata": {},
   "outputs": [
    {
     "ename": "NameError",
     "evalue": "name 'embeddings' is not defined",
     "output_type": "error",
     "traceback": [
      "\u001b[0;31m---------------------------------------------------------------------------\u001b[0m",
      "\u001b[0;31mNameError\u001b[0m                                 Traceback (most recent call last)",
      "Cell \u001b[0;32mIn[18], line 3\u001b[0m\n\u001b[1;32m      1\u001b[0m \u001b[38;5;28;01mfrom\u001b[39;00m\u001b[38;5;250m \u001b[39m\u001b[38;5;21;01mlangchain_community\u001b[39;00m\u001b[38;5;21;01m.\u001b[39;00m\u001b[38;5;21;01mvectorstores\u001b[39;00m\u001b[38;5;250m \u001b[39m\u001b[38;5;28;01mimport\u001b[39;00m Chroma\n\u001b[1;32m      2\u001b[0m db\u001b[38;5;241m=\u001b[39mChroma\u001b[38;5;241m.\u001b[39mfrom_documents(text,\n\u001b[0;32m----> 3\u001b[0m     \u001b[43membeddings\u001b[49m)\n\u001b[1;32m      4\u001b[0m db\n",
      "\u001b[0;31mNameError\u001b[0m: name 'embeddings' is not defined"
     ]
    }
   ],
   "source": [
    "from langchain_community.vectorstores import Chroma\n",
    "db=Chroma.from_documents(text,\n",
    "    embeddings)\n",
    "db"
   ]
  },
  {
   "cell_type": "code",
   "execution_count": null,
   "id": "7e449981",
   "metadata": {},
   "outputs": [],
   "source": [
    "query=\"We need to pass those lessons on to the many generations to follow.\"\n",
    "retrieved_results= db.similarity_search(query, k=2)\n",
    "print(retrieved_results)"
   ]
  },
  {
   "cell_type": "code",
   "execution_count": null,
   "id": "5a248fcf",
   "metadata": {},
   "outputs": [],
   "source": []
  }
 ],
 "metadata": {
  "kernelspec": {
   "display_name": "Python 3",
   "language": "python",
   "name": "python3"
  },
  "language_info": {
   "codemirror_mode": {
    "name": "ipython",
    "version": 3
   },
   "file_extension": ".py",
   "mimetype": "text/x-python",
   "name": "python",
   "nbconvert_exporter": "python",
   "pygments_lexer": "ipython3",
   "version": "3.10.0"
  }
 },
 "nbformat": 4,
 "nbformat_minor": 5
}
