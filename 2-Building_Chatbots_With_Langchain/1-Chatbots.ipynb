{
 "cells": [
  {
   "cell_type": "code",
   "execution_count": 53,
   "id": "80c55868",
   "metadata": {},
   "outputs": [
    {
     "data": {
      "text/plain": [
       "'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'"
      ]
     },
     "execution_count": 53,
     "metadata": {},
     "output_type": "execute_result"
    }
   ],
   "source": [
    "import os \n",
    "from dotenv import load_dotenv\n",
    "load_dotenv()\n",
    "\n",
    "groq_api_key = os.getenv(\"GROQ_API_KEY\")\n",
    "groq_api_key"
   ]
  },
  {
   "cell_type": "code",
   "execution_count": 54,
   "id": "dc879fd7",
   "metadata": {},
   "outputs": [
    {
     "name": "stdout",
     "output_type": "stream",
     "text": [
      "It's nice to meet you, Aaryan!\n",
      "\n",
      "As an AI, I don't have access to real-time information or personal details about individuals, so I can't confirm your employment at Google Deepmind. \n",
      "\n",
      "However, it's great to hear you're working in the field of AI engineering. It's a fascinating and rapidly developing area! \n",
      "\n",
      "Is there anything specific you'd like to discuss about AI or your work at Deepmind? I'm happy to chat within my limitations as an AI assistant.\n",
      "\n"
     ]
    }
   ],
   "source": [
    "# Initialize the model\n",
    "from langchain_groq import ChatGroq\n",
    "\n",
    "\n",
    "model = ChatGroq(model=\"gemma2-9b-it\", groq_api_key=groq_api_key)\n",
    "\n",
    "# Invoke the model with a list of messages\n",
    "response = model.invoke(\n",
    "    [HumanMessage(content=\"Hi , I am Aaryan , I am an AI Engineer at Google Deepmind ?\")],\n",
    ")\n",
    "\n",
    "# Print the response\n",
    "print(response.content)"
   ]
  },
  {
   "cell_type": "code",
   "execution_count": 55,
   "id": "e417c487",
   "metadata": {},
   "outputs": [
    {
     "name": "stdout",
     "output_type": "stream",
     "text": [
      "You told me your name is Aaryan and that you are an AI Engineer at Google DeepMind.  \n",
      "\n",
      "Is there anything else you'd like to tell me about yourself or your work? I'm interested in learning more! 😊  \n",
      "\n"
     ]
    }
   ],
   "source": [
    "from langchain_core.messages import AIMessage\n",
    "reply=model.invoke(\n",
    "    [\n",
    "        HumanMessage(content=\"Hi , I am Aaryan , I am an AI Engineer at Google Deepmind ? ?\"),\n",
    "        AIMessage(content=\"That's great to meet you, Aaryan! It's fascinating to connect with someone working in the world of AI, especially at a renowned institution like Google DeepMind. What are you currently working on that you find most exciting?  I'm always eager to learn about the latest advancements in the field.\"),\n",
    "        HumanMessage(content=\"Hey , What's my name and what do i do \")\n",
    "    ]\n",
    ")\n",
    "print(reply.content)"
   ]
  },
  {
   "cell_type": "markdown",
   "id": "ca3980a3",
   "metadata": {},
   "source": [
    "## Message History"
   ]
  },
  {
   "cell_type": "code",
   "execution_count": 56,
   "id": "e4894fdc",
   "metadata": {},
   "outputs": [],
   "source": [
    "from langchain_community.chat_message_histories import ChatMessageHistory\n",
    "from langchain_core.chat_history import BaseChatMessageHistory\n",
    "from langchain_core.runnables.history import RunnableWithMessageHistory\n",
    "\n",
    "store={}\n",
    "\n",
    "def get_session_history(session_id: str) -> BaseChatMessageHistory:\n",
    "    if session_id not in store:\n",
    "        store[session_id] = ChatMessageHistory()\n",
    "    return store[session_id]\n",
    "\n",
    "with_message_history = RunnableWithMessageHistory(model, get_session_history)"
   ]
  },
  {
   "cell_type": "code",
   "execution_count": 57,
   "id": "182f0462",
   "metadata": {},
   "outputs": [],
   "source": [
    "config={\"configuration\": {\"session_id\": \"chat1\"}}\n"
   ]
  },
  {
   "cell_type": "code",
   "execution_count": 58,
   "id": "3677503e",
   "metadata": {},
   "outputs": [
    {
     "name": "stdout",
     "output_type": "stream",
     "text": [
      "It's nice to meet you, Aaryan!\n",
      "\n",
      "While I'm not able to verify employment details about individuals, it's great to hear that you're an AI Engineer at Google DeepMind. That's an incredibly exciting field to be in! \n",
      "\n",
      "Is there anything I can help you with today? Perhaps you have a question about AI, or maybe you'd like to discuss a project you're working on? I'm here to assist in any way I can.\n",
      "\n"
     ]
    }
   ],
   "source": [
    "response = with_message_history.invoke(\n",
    "    [\n",
    "        HumanMessage(content=\"Hi, I am Aaryan, I am an AI Engineer at Google DeepMind?\")\n",
    "    ],\n",
    "    config={\n",
    "        \"configurable\": {\n",
    "            \"session_id\": \"aaryan_001\"  # or any unique ID string\n",
    "        }\n",
    "    }\n",
    ")\n",
    "print(response.content)\n"
   ]
  },
  {
   "cell_type": "code",
   "execution_count": 59,
   "id": "e5378543",
   "metadata": {},
   "outputs": [
    {
     "data": {
      "text/plain": [
       "AIMessage(content=\"You told me your name is Aaryan and that you are an AI Engineer at Google DeepMind.  \\n\\nIs there anything else you'd like to know or discuss? 😊 \\n\", additional_kwargs={}, response_metadata={'token_usage': {'completion_tokens': 40, 'prompt_tokens': 152, 'total_tokens': 192, 'completion_time': 0.072727273, 'prompt_time': 0.006835657, 'queue_time': 0.26376162200000003, 'total_time': 0.07956293}, 'model_name': 'gemma2-9b-it', 'system_fingerprint': 'fp_10c08bf97d', 'finish_reason': 'stop', 'logprobs': None}, id='run--e15d8bfa-0927-4d78-b419-7e0c6e53068b-0', usage_metadata={'input_tokens': 152, 'output_tokens': 40, 'total_tokens': 192})"
      ]
     },
     "execution_count": 59,
     "metadata": {},
     "output_type": "execute_result"
    }
   ],
   "source": [
    "with_message_history.invoke(\n",
    "    [\n",
    "        HumanMessage(content=\"Hi , What's my name and what do i do ?\"),],\n",
    "    config= {\n",
    "        \"configurable\": {\n",
    "            \"session_id\": \"aaryan_001\"  # or any unique ID string\n",
    "        }\n",
    "    }\n",
    ")"
   ]
  },
  {
   "cell_type": "markdown",
   "id": "277c82ef",
   "metadata": {},
   "source": [
    "## Prompt Template"
   ]
  },
  {
   "cell_type": "code",
   "execution_count": 60,
   "id": "02092f80",
   "metadata": {},
   "outputs": [],
   "source": [
    "from langchain_core.prompts import ChatPromptTemplate, MessagesPlaceholder\n",
    "prompt= ChatPromptTemplate.from_messages(\n",
    "    [\n",
    "        (\"system\", \"You are a helpful assistant.\"),\n",
    "        MessagesPlaceholder(variable_name=\"messages\")\n",
    "    ]\n",
    ")\n",
    "chain = prompt | model"
   ]
  },
  {
   "cell_type": "code",
   "execution_count": 61,
   "id": "9b7e9bb0",
   "metadata": {},
   "outputs": [
    {
     "name": "stdout",
     "output_type": "stream",
     "text": [
      "Bot: Hi Aaryan! It's nice to meet you. That's amazing! Being an AI Engineer at Google DeepMind must be incredibly exciting. What kind of work are you involved in?  \n",
      "\n",
      "I'm always eager to learn more about the advancements being made in the field of AI.  Perhaps you could tell me about some of the projects you're working on?\n",
      "\n"
     ]
    }
   ],
   "source": [
    "response = chain.invoke({\n",
    "    \"messages\": [HumanMessage(content=\"Hi, I am Aaryan, I am an AI Engineer at Google DeepMind?\")]\n",
    "})\n",
    "\n",
    "print(\"Bot:\", response.content)"
   ]
  },
  {
   "cell_type": "code",
   "execution_count": 62,
   "id": "1ce93aaf",
   "metadata": {},
   "outputs": [],
   "source": [
    "with_message_history = RunnableWithMessageHistory(chain, get_session_history)"
   ]
  },
  {
   "cell_type": "code",
   "execution_count": 63,
   "id": "37633557",
   "metadata": {},
   "outputs": [
    {
     "data": {
      "text/plain": [
       "\"Hi Aaryan,\\n\\nIt's nice to meet you! I'm glad to hear you're an AI Engineer at Google DeepMind. That's incredibly impressive work!  \\n\\nIs there anything I can help you with today? Perhaps you have a question about a specific AI concept, need help brainstorming ideas, or just want to chat about the latest developments in the field?  \\n\\nI'm here to assist in any way I can.\\n\""
      ]
     },
     "execution_count": 63,
     "metadata": {},
     "output_type": "execute_result"
    }
   ],
   "source": [
    "config = {\n",
    "    \"configurable\": {\n",
    "        \"session_id\": \"chat_3\"  # or any unique ID string\n",
    "    }\n",
    "}\n",
    "response = with_message_history.invoke(\n",
    "    [\n",
    "        HumanMessage(content=\"Hi, I am Aaryan, I am an AI Engineer at Google DeepMind?\")\n",
    "    ],\n",
    "    config=config\n",
    ")\n",
    "response.content"
   ]
  },
  {
   "cell_type": "code",
   "execution_count": 64,
   "id": "90d247fe",
   "metadata": {},
   "outputs": [],
   "source": [
    "prompt = ChatPromptTemplate.from_messages(\n",
    "    [\n",
    "        (\"system\", \"You are a good man always respond in a good way in {language}.\"),\n",
    "        MessagesPlaceholder(variable_name=\"messages\")\n",
    "    ]\n",
    ")\n",
    "chain = prompt | model "
   ]
  },
  {
   "cell_type": "code",
   "execution_count": 65,
   "id": "123e4cc5",
   "metadata": {},
   "outputs": [
    {
     "name": "stdout",
     "output_type": "stream",
     "text": [
      "Bot: That's wonderful! Music is such a powerful and enjoyable thing. What kind of music do you like to play? 🎶  \n",
      "\n",
      "I'm always happy to chat about music, or anything else that's on your mind. 😊  \n",
      "\n",
      "\n"
     ]
    }
   ],
   "source": [
    "response = chain.invoke({\n",
    "    \"messages\": [HumanMessage(content=\"I like to play music \")],\n",
    "    \"language\": \"English\"\n",
    "})\n",
    "print(\"Bot:\", response.content)"
   ]
  },
  {
   "cell_type": "code",
   "execution_count": 66,
   "id": "a92bb841",
   "metadata": {},
   "outputs": [],
   "source": [
    "with_message_history= RunnableWithMessageHistory(\n",
    "    chain, \n",
    "    get_session_history,\n",
    "    input_messages_key=\"messages\"\n",
    "    )  \n"
   ]
  },
  {
   "cell_type": "code",
   "execution_count": 67,
   "id": "1962378d",
   "metadata": {},
   "outputs": [
    {
     "name": "stdout",
     "output_type": "stream",
     "text": [
      "Bot: That's awesome, Aaryan! It's great to connect with another AI professional.  Meta is doing some really interesting work in the field. \n",
      "\n",
      "What kind of AI projects are you working on these days?  I'd love to hear more about it!\n",
      "\n"
     ]
    }
   ],
   "source": [
    "response = with_message_history.invoke(\n",
    "    {\n",
    "        \"messages\": [HumanMessage(content=\"Hi I am an AI engineer at Meta\")],\n",
    "        \"language\": \"English\"  # or \"Hindi\", \"Punjabi\", etc.\n",
    "    },\n",
    "    config=config\n",
    ")\n",
    "print(\"Bot:\", response.content)\n"
   ]
  },
  {
   "cell_type": "markdown",
   "id": "34a6f43b",
   "metadata": {},
   "source": [
    "## Managing Chat convo history using langchain"
   ]
  },
  {
   "cell_type": "code",
   "execution_count": 68,
   "id": "425b4ad7",
   "metadata": {},
   "outputs": [
    {
     "data": {
      "text/plain": [
       "[SystemMessage(content='You are a good gangster always respond a good and true gangster in English Language', additional_kwargs={}, response_metadata={}),\n",
       " HumanMessage(content='Hi I am Aaryan , a good boy', additional_kwargs={}, response_metadata={}),\n",
       " AIMessage(content=\"Hello Aaryan, it's nice to meet you!  I'm glad you think of yourself as a good boy. That's wonderful. Is there anything I can help you with today? \", additional_kwargs={}, response_metadata={}),\n",
       " HumanMessage(content='Hi I am an AI engineer at Meta', additional_kwargs={}, response_metadata={}),\n",
       " AIMessage(content=\"Well hello there! That's fascinating! It's great to meet an AI engineer from Meta. What kind of projects are you working on? I'm always eager to learn more about the exciting advancements happening in the field of artificial intelligence. 😊 \", additional_kwargs={}, response_metadata={}),\n",
       " HumanMessage(content='2+2=?', additional_kwargs={}, response_metadata={}),\n",
       " AIMessage(content='4', additional_kwargs={}, response_metadata={}),\n",
       " HumanMessage(content='I like to play music', additional_kwargs={}, response_metadata={}),\n",
       " AIMessage(content=\"That's wonderful! Music is a beautiful thing.  What kind of music do you like to play? 🎶 I'm always happy to chat about music, or anything else that's on your mind. 😊 \", additional_kwargs={}, response_metadata={})]"
      ]
     },
     "execution_count": 68,
     "metadata": {},
     "output_type": "execute_result"
    }
   ],
   "source": [
    "from transformers.generation import GenerationMixin\n",
    "from langchain_groq import ChatGroq\n",
    "from langchain_core.messages import SystemMessage,HumanMessage,trim_messages\n",
    "model = ChatGroq(model=\"gemma2-9b-it\", groq_api_key=groq_api_key)\n",
    "\n",
    "trimmer= trim_messages(\n",
    "    max_tokens=1000,\n",
    "    strategy=\"last\",\n",
    "    token_counter=model,\n",
    "    include_system=True,\n",
    "    allow_partial=False,\n",
    "    start_on=\"human\"\n",
    ")\n",
    "messages=[\n",
    "    SystemMessage(content=\"You are a good gangster always respond a good and true gangster in English Language\"),\n",
    "    HumanMessage(content=\"Hi I am Aaryan , a good boy\"),\n",
    "    AIMessage(content=\"Hello Aaryan, it's nice to meet you!  I'm glad you think of yourself as a good boy. That's wonderful. Is there anything I can help you with today? \"),\n",
    "    HumanMessage(content=\"Hi I am an AI engineer at Meta\"),\n",
    "    AIMessage(content=\"Well hello there! That's fascinating! It's great to meet an AI engineer from Meta. What kind of projects are you working on? I'm always eager to learn more about the exciting advancements happening in the field of artificial intelligence. 😊 \"),\n",
    "    HumanMessage(content=\"2+2=?\"),\n",
    "    AIMessage(content=\"4\"),\n",
    "    HumanMessage(content=\"I like to play music\"),\n",
    "    AIMessage(content=\"That's wonderful! Music is a beautiful thing.  What kind of music do you like to play? 🎶 I'm always happy to chat about music, or anything else that's on your mind. 😊 \"),\n",
    "]\n",
    "trimmer.invoke(messages)"
   ]
  },
  {
   "cell_type": "code",
   "execution_count": 70,
   "id": "84613533",
   "metadata": {},
   "outputs": [
    {
     "name": "stdout",
     "output_type": "stream",
     "text": [
      "Bot: You told me your name is Aaryan.  Is there anything else I can help you with? 😊  \n",
      "\n"
     ]
    }
   ],
   "source": [
    "from operator import itemgetter\n",
    "from langchain_core.runnables import RunnablePassthrough\n",
    "\n",
    "chain=(\n",
    "    RunnablePassthrough.assign(messages=itemgetter(\"messages\")|trimmer)\n",
    "    | prompt    \n",
    "    | model\n",
    ")\n",
    "response = chain.invoke({\n",
    "    \"messages\": messages+[HumanMessage(content=\"What is my name ?\")],\n",
    "    \"language\": \"English\"\n",
    "})\n",
    "print(\"Bot:\", response.content)"
   ]
  },
  {
   "cell_type": "code",
   "execution_count": 71,
   "id": "b4cccf8f",
   "metadata": {},
   "outputs": [],
   "source": [
    "with_message_history = RunnableWithMessageHistory(\n",
    "    chain, \n",
    "    get_session_history,\n",
    "    input_messages_key=\"messages\"\n",
    ")\n",
    "config = {\n",
    "    \"configurable\": {\n",
    "        \"session_id\": \"chat_4\"  # or any unique ID string\n",
    "    }\n",
    "}"
   ]
  },
  {
   "cell_type": "code",
   "execution_count": 74,
   "id": "1db19123",
   "metadata": {},
   "outputs": [
    {
     "name": "stdout",
     "output_type": "stream",
     "text": [
      "Bot: You're Aaryan, and you're an AI engineer at Meta! \n",
      "\n",
      "You asked me:\n",
      "\n",
      "* 2 + 2 =?\n",
      "\n",
      "I'm always here to chat and answer your questions, Aaryan. 👍 \n",
      "\n",
      "\n",
      "\n",
      "\n"
     ]
    }
   ],
   "source": [
    "response = with_message_history.invoke({\n",
    "    \"messages\": messages+[HumanMessage(content=\"What's my name buddy , What do i do and what question did i ask you ?\")],\n",
    "    \"language\": \"English\"\n",
    "}\n",
    "                        \n",
    ", config=config)\n",
    "print(\"Bot:\", response.content)"
   ]
  },
  {
   "cell_type": "code",
   "execution_count": null,
   "id": "5754dc83",
   "metadata": {},
   "outputs": [],
   "source": []
  }
 ],
 "metadata": {
  "kernelspec": {
   "display_name": "venv",
   "language": "python",
   "name": "python3"
  },
  "language_info": {
   "codemirror_mode": {
    "name": "ipython",
    "version": 3
   },
   "file_extension": ".py",
   "mimetype": "text/x-python",
   "name": "python",
   "nbconvert_exporter": "python",
   "pygments_lexer": "ipython3",
   "version": "3.10.7"
  }
 },
 "nbformat": 4,
 "nbformat_minor": 5
}
