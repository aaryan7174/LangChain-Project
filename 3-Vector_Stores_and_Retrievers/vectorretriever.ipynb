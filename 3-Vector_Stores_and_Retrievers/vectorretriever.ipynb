{
 "cells": [
  {
   "cell_type": "code",
   "execution_count": 3,
   "id": "4e86505e",
   "metadata": {},
   "outputs": [],
   "source": [
    "from langchain_core.documents import Document\n",
    "\n",
    "documents = [\n",
    "    Document(\n",
    "        page_content=\"This is the first document.\",\n",
    "        metadata={\"source\": \"doc1\", \"author\": \"Alice\", \"date\": \"2023-01-01\"}\n",
    "    ),\n",
    "    Document(\n",
    "        page_content=\"This is the second document.\",\n",
    "        metadata={\"source\": \"doc2\", \"author\": \"Bob\", \"date\": \"2023-02-01\"}\n",
    "    ),\n",
    "    Document(\n",
    "        page_content=\"This is the third document.\",\n",
    "        metadata={\"source\": \"doc3\", \"author\": \"Charlie\", \"date\": \"2023-03-01\"}\n",
    "    ),\n",
    "    Document(\n",
    "        page_content=\"This is the fourth document.\",\n",
    "        metadata={\"source\": \"doc4\", \"author\": \"Alice\", \"date\": \"2023-04-01\"}\n",
    "    ),\n",
    "    Document(\n",
    "        page_content=\"This is the fifth document.\",\n",
    "        metadata={\"source\": \"doc5\", \"author\": \"Bob\", \"date\": \"2023-05-01\"}\n",
    "    ),\n",
    "]"
   ]
  },
  {
   "cell_type": "code",
   "execution_count": 4,
   "id": "7a679f75",
   "metadata": {},
   "outputs": [
    {
     "data": {
      "text/plain": [
       "[Document(metadata={'source': 'doc1', 'author': 'Alice', 'date': '2023-01-01'}, page_content='This is the first document.'),\n",
       " Document(metadata={'source': 'doc2', 'author': 'Bob', 'date': '2023-02-01'}, page_content='This is the second document.'),\n",
       " Document(metadata={'source': 'doc3', 'author': 'Charlie', 'date': '2023-03-01'}, page_content='This is the third document.'),\n",
       " Document(metadata={'source': 'doc4', 'author': 'Alice', 'date': '2023-04-01'}, page_content='This is the fourth document.'),\n",
       " Document(metadata={'source': 'doc5', 'author': 'Bob', 'date': '2023-05-01'}, page_content='This is the fifth document.')]"
      ]
     },
     "execution_count": 4,
     "metadata": {},
     "output_type": "execute_result"
    }
   ],
   "source": [
    "documents"
   ]
  },
  {
   "cell_type": "code",
   "execution_count": 5,
   "id": "01c75bba",
   "metadata": {},
   "outputs": [
    {
     "data": {
      "text/plain": [
       "ChatGroq(client=<groq.resources.chat.completions.Completions object at 0x11665acb0>, async_client=<groq.resources.chat.completions.AsyncCompletions object at 0x116694ee0>, model_name='llama3-8b-8192', model_kwargs={}, groq_api_key=SecretStr('**********'))"
      ]
     },
     "execution_count": 5,
     "metadata": {},
     "output_type": "execute_result"
    }
   ],
   "source": [
    "from langchain_groq import ChatGroq\n",
    "import os \n",
    "from dotenv import load_dotenv\n",
    "load_dotenv()\n",
    "groq_api_key = os.getenv(\"GROQ_API_KEY\")\n",
    "\n",
    "os.environ[\"HF_TOKEN\"] = os.getenv(\"HF_TOKEN\",)\n",
    "\n",
    "llm = ChatGroq(\n",
    "    model=\"llama3-8b-8192\",\n",
    "    groq_api_key=groq_api_key)\n",
    "llm"
   ]
  },
  {
   "cell_type": "code",
   "execution_count": 6,
   "id": "b45e41bc",
   "metadata": {},
   "outputs": [
    {
     "name": "stderr",
     "output_type": "stream",
     "text": [
      "/Users/aaryanrana/Desktop/Langchain/venv/lib/python3.10/site-packages/tqdm/auto.py:21: TqdmWarning: IProgress not found. Please update jupyter and ipywidgets. See https://ipywidgets.readthedocs.io/en/stable/user_install.html\n",
      "  from .autonotebook import tqdm as notebook_tqdm\n",
      "/Users/aaryanrana/Desktop/Langchain/venv/lib/python3.10/site-packages/huggingface_hub/file_download.py:943: FutureWarning: `resume_download` is deprecated and will be removed in version 1.0.0. Downloads always resume when possible. If you want to force a new download, use `force_download=True`.\n",
      "  warnings.warn(\n"
     ]
    }
   ],
   "source": [
    "from langchain_huggingface import HuggingFaceEmbeddings\n",
    "embeddings = HuggingFaceEmbeddings(\n",
    "    model_name=\"sentence-transformers/all-MiniLM-L6-v2\"\n",
    ")"
   ]
  },
  {
   "cell_type": "code",
   "execution_count": 7,
   "id": "1add8061",
   "metadata": {},
   "outputs": [
    {
     "data": {
      "text/plain": [
       "<langchain_chroma.vectorstores.Chroma at 0x141f67850>"
      ]
     },
     "execution_count": 7,
     "metadata": {},
     "output_type": "execute_result"
    }
   ],
   "source": [
    "#Vector Stores\n",
    "from langchain_chroma import Chroma\n",
    "vectorstore = Chroma.from_documents(\n",
    "    documents=documents,\n",
    "    embedding=embeddings\n",
    ")\n",
    "vectorstore"
   ]
  },
  {
   "cell_type": "code",
   "execution_count": 8,
   "id": "4bf04175",
   "metadata": {},
   "outputs": [
    {
     "data": {
      "text/plain": [
       "[Document(id='0ff9f5b8-21a6-492a-a8a9-a30e1a88f2db', metadata={'author': 'Alice', 'date': '2023-01-01', 'source': 'doc1'}, page_content='This is the first document.')]"
      ]
     },
     "execution_count": 8,
     "metadata": {},
     "output_type": "execute_result"
    }
   ],
   "source": [
    "vectorstore.similarity_search(\n",
    "    query=\"What is the content of the first document?\",\n",
    "    k=1\n",
    ")"
   ]
  },
  {
   "cell_type": "code",
   "execution_count": null,
   "id": "b84ba967",
   "metadata": {},
   "outputs": [
    {
     "data": {
      "text/plain": [
       "[[Document(id='0ff9f5b8-21a6-492a-a8a9-a30e1a88f2db', metadata={'source': 'doc1', 'author': 'Alice', 'date': '2023-01-01'}, page_content='This is the first document.')],\n",
       " [Document(id='9cf57eca-9ac0-48e2-8830-8ef1473b9e7c', metadata={'author': 'Alice', 'source': 'doc4', 'date': '2023-04-01'}, page_content='This is the fourth document.')]]"
      ]
     },
     "execution_count": 10,
     "metadata": {},
     "output_type": "execute_result"
    }
   ],
   "source": [
    "from typing import List\n",
    "\n",
    "from langchain_core.documents import Document\n",
    "from langchain_core.runnables import RunnableLambda\n",
    "\n",
    "retriever = RunnableLambda(vectorstore.similarity_search).bind(k=1)\n",
    "retriever.batch([\"first\",\"fourth\"])"
   ]
  },
  {
   "cell_type": "code",
   "execution_count": 15,
   "id": "d9bd241f",
   "metadata": {},
   "outputs": [
    {
     "name": "stdout",
     "output_type": "stream",
     "text": [
      "content='The content of the first document is: \"This is the first document.\"' additional_kwargs={} response_metadata={'token_usage': {'completion_tokens': 16, 'prompt_tokens': 97, 'total_tokens': 113, 'completion_time': 0.018742008, 'prompt_time': 0.029302185, 'queue_time': 0.28932972500000004, 'total_time': 0.048044193}, 'model_name': 'llama3-8b-8192', 'system_fingerprint': 'fp_8b7c3a83f7', 'finish_reason': 'stop', 'logprobs': None} id='run--e8421811-2d18-40d8-a3d2-f5ed0c1b5e51-0' usage_metadata={'input_tokens': 97, 'output_tokens': 16, 'total_tokens': 113}\n"
     ]
    }
   ],
   "source": [
    "from langchain_core.prompts import ChatPromptTemplate\n",
    "from langchain_core.runnables import RunnablePassthrough\n",
    "\n",
    "message= \"\"\" \n",
    "Answer this question using the provided context only. {question}\n",
    "Context:{context}\"\"\"\n",
    "\n",
    "prompt = ChatPromptTemplate.from_messages([(\"human\",message)])\n",
    "\n",
    "rag_chain = {\"context\": retriever, \"question\": RunnablePassthrough()}|prompt|llm\n",
    "response = rag_chain.invoke(\"What is the content of the first document?\")\n",
    "print(response)\n"
   ]
  }
 ],
 "metadata": {
  "kernelspec": {
   "display_name": "venv",
   "language": "python",
   "name": "python3"
  },
  "language_info": {
   "codemirror_mode": {
    "name": "ipython",
    "version": 3
   },
   "file_extension": ".py",
   "mimetype": "text/x-python",
   "name": "python",
   "nbconvert_exporter": "python",
   "pygments_lexer": "ipython3",
   "version": "3.10.7"
  }
 },
 "nbformat": 4,
 "nbformat_minor": 5
}
